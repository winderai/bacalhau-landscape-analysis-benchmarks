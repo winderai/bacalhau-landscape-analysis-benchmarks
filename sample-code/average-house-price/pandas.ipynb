{
 "cells": [
  {
   "cell_type": "markdown",
   "id": "b58b7b2e-029e-4c4d-87a1-6d521516becb",
   "metadata": {},
   "source": [
    "# Average House Price in Pandas"
   ]
  },
  {
   "cell_type": "code",
   "execution_count": 2,
   "id": "b1a5b643-81d2-426c-9a99-eb0b6eb928af",
   "metadata": {},
   "outputs": [],
   "source": [
    "import pandas as pd"
   ]
  },
  {
   "cell_type": "code",
   "execution_count": 5,
   "id": "f8354ec4-e50e-46c4-b2cb-5aad0d74dfb6",
   "metadata": {},
   "outputs": [
    {
     "name": "stdout",
     "output_type": "stream",
     "text": [
      "Address,City,State,Zipcode,Price\n",
      "4611 Marshall Street,Hanover,MD,21076,18000\n",
      "437 Kooter Lane,Charlotte,NC,28202,20000\n",
      "2895 Pinewood Drive,Schaumburg,IL,60173,54000\n",
      "2665 Middlevilee Road,Santa Fe Spring,CA,90670,78800\n",
      "1906 Linda Street,Horsham,PA,19044,13499\n",
      "4612 Marshall Street,Hanover,MD,21076,25000\n",
      "438 Kooter Lane,Charlotte,NC,28202,48000\n",
      "2896 Pinewood Drive,Schaumburg,IL,60173,21400\n",
      "2666 Middlevilee Road,Santa Fe Spring,CA,90670,35460\n"
     ]
    }
   ],
   "source": [
    "!head \"data/address_book.csv\""
   ]
  },
  {
   "cell_type": "code",
   "execution_count": 6,
   "id": "3755537c-851c-409b-80b6-acb74d162b3e",
   "metadata": {},
   "outputs": [
    {
     "data": {
      "text/html": [
       "<div>\n",
       "<style scoped>\n",
       "    .dataframe tbody tr th:only-of-type {\n",
       "        vertical-align: middle;\n",
       "    }\n",
       "\n",
       "    .dataframe tbody tr th {\n",
       "        vertical-align: top;\n",
       "    }\n",
       "\n",
       "    .dataframe thead th {\n",
       "        text-align: right;\n",
       "    }\n",
       "</style>\n",
       "<table border=\"1\" class=\"dataframe\">\n",
       "  <thead>\n",
       "    <tr style=\"text-align: right;\">\n",
       "      <th></th>\n",
       "      <th>Address</th>\n",
       "      <th>City</th>\n",
       "      <th>State</th>\n",
       "      <th>Zipcode</th>\n",
       "      <th>Price</th>\n",
       "    </tr>\n",
       "  </thead>\n",
       "  <tbody>\n",
       "    <tr>\n",
       "      <th>0</th>\n",
       "      <td>4611 Marshall Street</td>\n",
       "      <td>Hanover</td>\n",
       "      <td>MD</td>\n",
       "      <td>21076</td>\n",
       "      <td>18000</td>\n",
       "    </tr>\n",
       "    <tr>\n",
       "      <th>1</th>\n",
       "      <td>437 Kooter Lane</td>\n",
       "      <td>Charlotte</td>\n",
       "      <td>NC</td>\n",
       "      <td>28202</td>\n",
       "      <td>20000</td>\n",
       "    </tr>\n",
       "    <tr>\n",
       "      <th>2</th>\n",
       "      <td>2895 Pinewood Drive</td>\n",
       "      <td>Schaumburg</td>\n",
       "      <td>IL</td>\n",
       "      <td>60173</td>\n",
       "      <td>54000</td>\n",
       "    </tr>\n",
       "    <tr>\n",
       "      <th>3</th>\n",
       "      <td>2665 Middlevilee Road</td>\n",
       "      <td>Santa Fe Spring</td>\n",
       "      <td>CA</td>\n",
       "      <td>90670</td>\n",
       "      <td>78800</td>\n",
       "    </tr>\n",
       "    <tr>\n",
       "      <th>4</th>\n",
       "      <td>1906 Linda Street</td>\n",
       "      <td>Horsham</td>\n",
       "      <td>PA</td>\n",
       "      <td>19044</td>\n",
       "      <td>13499</td>\n",
       "    </tr>\n",
       "  </tbody>\n",
       "</table>\n",
       "</div>"
      ],
      "text/plain": [
       "                 Address             City State  Zipcode  Price\n",
       "0   4611 Marshall Street          Hanover    MD    21076  18000\n",
       "1        437 Kooter Lane        Charlotte    NC    28202  20000\n",
       "2    2895 Pinewood Drive       Schaumburg    IL    60173  54000\n",
       "3  2665 Middlevilee Road  Santa Fe Spring    CA    90670  78800\n",
       "4      1906 Linda Street          Horsham    PA    19044  13499"
      ]
     },
     "execution_count": 6,
     "metadata": {},
     "output_type": "execute_result"
    }
   ],
   "source": [
    "df = pd.read_csv(\"data/address_book.csv\")\n",
    "df.head()"
   ]
  },
  {
   "cell_type": "code",
   "execution_count": 7,
   "id": "4c937e51-065a-4391-907c-92a7de00efdd",
   "metadata": {},
   "outputs": [
    {
     "name": "stdout",
     "output_type": "stream",
     "text": [
      "            Price\n",
      "Zipcode          \n",
      "19044    30580.25\n",
      "21076    27875.00\n",
      "28202    44750.00\n",
      "60173    43300.00\n",
      "90670    56277.50\n"
     ]
    }
   ],
   "source": [
    "df_mean = df.groupby(\"Zipcode\").mean()\n",
    "print(df_mean)"
   ]
  },
  {
   "cell_type": "code",
   "execution_count": null,
   "id": "72ed2cfa-c94d-49e1-bf56-cc23378f9ede",
   "metadata": {},
   "outputs": [],
   "source": []
  }
 ],
 "metadata": {
  "kernelspec": {
   "display_name": "Python 3 (ipykernel)",
   "language": "python",
   "name": "python3"
  },
  "language_info": {
   "codemirror_mode": {
    "name": "ipython",
    "version": 3
   },
   "file_extension": ".py",
   "mimetype": "text/x-python",
   "name": "python",
   "nbconvert_exporter": "python",
   "pygments_lexer": "ipython3",
   "version": "3.9.5"
  }
 },
 "nbformat": 4,
 "nbformat_minor": 5
}
