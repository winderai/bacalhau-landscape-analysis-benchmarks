{
 "cells": [
  {
   "cell_type": "markdown",
   "id": "821f0d6b-d9a1-4113-bf4d-75334d2a7aa5",
   "metadata": {},
   "source": [
    "# Average House Price in Postgres"
   ]
  },
  {
   "cell_type": "markdown",
   "id": "7fec709e-4ac9-481e-8191-2be59340fd52",
   "metadata": {},
   "source": [
    " Make sure postgres is running"
   ]
  },
  {
   "cell_type": "code",
   "execution_count": 1,
   "id": "4b5a1d27-7f12-43a5-b211-293cdf04eb18",
   "metadata": {},
   "outputs": [
    {
     "name": "stdout",
     "output_type": "stream",
     "text": [
      "                                                             version                                                              \n",
      "----------------------------------------------------------------------------------------------------------------------------------\n",
      " PostgreSQL 14.2 (Ubuntu 14.2-1.pgdg20.04+1) on x86_64-pc-linux-gnu, compiled by gcc (Ubuntu 9.3.0-17ubuntu1~20.04) 9.3.0, 64-bit\n",
      "(1 row)\n",
      "\n"
     ]
    }
   ],
   "source": [
    "%%bash\n",
    "sudo -n -u postgres psql -c \"SELECT version();\""
   ]
  },
  {
   "cell_type": "code",
   "execution_count": 17,
   "id": "50c37e81-6ba8-44fd-b9eb-249a13052e15",
   "metadata": {},
   "outputs": [],
   "source": [
    "%%bash\n",
    "sudo -n -u postgres dropdb averagehouseprice\n",
    "sudo -n -u postgres createdb averagehouseprice\n",
    "\n",
    "# # su - postgres\n",
    "# $ createdb mydb\n",
    "# $ psql -s mydb\n",
    "# # create user someuser password 'somepassword';\n",
    "# # GRANT ALL PRIVILEGES ON DATABASE mydb TO someuser;"
   ]
  },
  {
   "cell_type": "code",
   "execution_count": 18,
   "id": "280ace2a-9e5e-44cf-82f1-0d44a5c7eb2e",
   "metadata": {},
   "outputs": [],
   "source": [
    "# sudo -n -u postgres createdb mydb\n",
    "# sudo -n -u postgres psql -c \"create user ubuntu password 'somepassword'\"\n",
    "# sudo -n -u postgres psql -c \"GRANT ALL PRIVILEGES ON DATABASE mydb TO ubuntu;\""
   ]
  },
  {
   "cell_type": "code",
   "execution_count": 19,
   "id": "fb47987c-0833-44fb-a8bb-4f4ea8a6cbb7",
   "metadata": {},
   "outputs": [],
   "source": [
    "# !sudo -u postgres sudo apt-get install -y python3-pip\n",
    "# #!pip install --quiet csvkit==1.0.7\n",
    "# #!conda install -y --quiet -c conda-forge psycopg2 "
   ]
  },
  {
   "cell_type": "code",
   "execution_count": 20,
   "id": "c56b2ca4-9bf5-4553-9139-ee2ea9159bcd",
   "metadata": {},
   "outputs": [
    {
     "name": "stdout",
     "output_type": "stream",
     "text": [
      "Address,City,State,Zipcode,Price\n",
      "4611 Marshall Street,Hanover,MD,21076,18000\n",
      "437 Kooter Lane,Charlotte,NC,28202,20000\n",
      "2895 Pinewood Drive,Schaumburg,IL,60173,54000\n",
      "2665 Middlevilee Road,Santa Fe Spring,CA,90670,78800\n",
      "1906 Linda Street,Horsham,PA,19044,13499\n",
      "4612 Marshall Street,Hanover,MD,21076,25000\n",
      "438 Kooter Lane,Charlotte,NC,28202,48000\n",
      "2896 Pinewood Drive,Schaumburg,IL,60173,21400\n",
      "2666 Middlevilee Road,Santa Fe Spring,CA,90670,35460\n"
     ]
    }
   ],
   "source": [
    "!head data/address_book.csv"
   ]
  },
  {
   "cell_type": "code",
   "execution_count": 21,
   "id": "578fdd76-3326-4179-a11a-90dc38207829",
   "metadata": {},
   "outputs": [
    {
     "name": "stdout",
     "output_type": "stream",
     "text": [
      "CREATE TABLE\n"
     ]
    }
   ],
   "source": [
    "!sudo -n -u postgres psql -d averagehouseprice -c \"\\\n",
    "  CREATE TABLE houseprice ( \\\n",
    "      Address VARCHAR(50), \\\n",
    "      City VARCHAR(50), \\\n",
    "      State VARCHAR(50), \\\n",
    "      Zipcode INTEGER, \\\n",
    "      Price INTEGER, \\\n",
    "      PRIMARY KEY (Address) \\\n",
    "  )\""
   ]
  },
  {
   "cell_type": "code",
   "execution_count": 22,
   "id": "2d59df53-6aed-4e02-ab70-e49b91d3571b",
   "metadata": {},
   "outputs": [
    {
     "name": "stdout",
     "output_type": "stream",
     "text": [
      "COPY 20\n"
     ]
    }
   ],
   "source": [
    "!sudo -n -u postgres psql -d averagehouseprice -c \"\\\n",
    "    COPY houseprice(Address,City,State,Zipcode,Price) \\\n",
    "    FROM '/home/ubuntu/sample-code-benchmark/sample-code/average-house-price/data/address_book.csv' \\\n",
    "    DELIMITER ',' \\\n",
    "    CSV HEADER;\""
   ]
  },
  {
   "cell_type": "code",
   "execution_count": 26,
   "id": "780ed6bd-dc66-41dc-bd64-8efa6834110b",
   "metadata": {},
   "outputs": [
    {
     "name": "stdout",
     "output_type": "stream",
     "text": [
      "        address        |      city       | state | zipcode | price \n",
      "-----------------------+-----------------+-------+---------+-------\n",
      " 4611 Marshall Street  | Hanover         | MD    |   21076 | 18000\n",
      " 437 Kooter Lane       | Charlotte       | NC    |   28202 | 20000\n",
      " 2895 Pinewood Drive   | Schaumburg      | IL    |   60173 | 54000\n",
      " 2665 Middlevilee Road | Santa Fe Spring | CA    |   90670 | 78800\n",
      " 1906 Linda Street     | Horsham         | PA    |   19044 | 13499\n",
      " 4612 Marshall Street  | Hanover         | MD    |   21076 | 25000\n",
      " 438 Kooter Lane       | Charlotte       | NC    |   28202 | 48000\n",
      " 2896 Pinewood Drive   | Schaumburg      | IL    |   60173 | 21400\n",
      " 2666 Middlevilee Road | Santa Fe Spring | CA    |   90670 | 35460\n",
      " 1907 Linda Street     | Horsham         | PA    |   19044 | 26022\n",
      "(10 rows)\n",
      "\n"
     ]
    }
   ],
   "source": [
    "!sudo -n -u postgres psql -d averagehouseprice -c \"SELECT * FROM houseprice LIMIT 10;\""
   ]
  },
  {
   "cell_type": "code",
   "execution_count": 25,
   "id": "20eb4363-30a9-4100-ab87-8c5439ee5f54",
   "metadata": {},
   "outputs": [
    {
     "name": "stdout",
     "output_type": "stream",
     "text": [
      "           List of relations\n",
      " Schema |    Name    | Type  |  Owner   \n",
      "--------+------------+-------+----------\n",
      " public | houseprice | table | postgres\n",
      "(1 row)\n",
      "\n"
     ]
    }
   ],
   "source": [
    "!sudo -n -u postgres psql -d averagehouseprice -c \"\\d\""
   ]
  },
  {
   "cell_type": "code",
   "execution_count": 30,
   "id": "59393e9e-6cea-4662-ad7d-8c07967d9cdd",
   "metadata": {},
   "outputs": [
    {
     "name": "stdout",
     "output_type": "stream",
     "text": [
      " zipcode |        avg         \n",
      "---------+--------------------\n",
      "   90670 | 56277.500000000000\n",
      "   21076 | 27875.000000000000\n",
      "   19044 | 30580.250000000000\n",
      "   28202 | 44750.000000000000\n",
      "   60173 | 43300.000000000000\n",
      "(5 rows)\n",
      "\n"
     ]
    }
   ],
   "source": [
    "!sudo -n -u postgres psql -d averagehouseprice -c \"\\\n",
    "    SELECT Zipcode, AVG(Price) \\\n",
    "    FROM houseprice \\\n",
    "    GROUP BY Zipcode \\\n",
    "    LIMIT 10;\""
   ]
  },
  {
   "cell_type": "code",
   "execution_count": null,
   "id": "c359f21d-642f-484b-9d0e-8344d5fdc100",
   "metadata": {},
   "outputs": [],
   "source": []
  }
 ],
 "metadata": {
  "kernelspec": {
   "display_name": "Python 3",
   "language": "python",
   "name": "python3"
  },
  "language_info": {
   "codemirror_mode": {
    "name": "ipython",
    "version": 3
   },
   "file_extension": ".py",
   "mimetype": "text/x-python",
   "name": "python",
   "nbconvert_exporter": "python",
   "pygments_lexer": "ipython3",
   "version": "3.8.8"
  }
 },
 "nbformat": 4,
 "nbformat_minor": 5
}
