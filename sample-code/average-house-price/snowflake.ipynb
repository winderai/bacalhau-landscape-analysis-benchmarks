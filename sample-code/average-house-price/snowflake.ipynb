{
 "cells": [
  {
   "cell_type": "markdown",
   "id": "da28900a-ef7f-4e7d-858e-a4139e968f16",
   "metadata": {},
   "source": [
    "# Average House Price in Snowflake"
   ]
  },
  {
   "cell_type": "code",
   "execution_count": 1,
   "id": "783d2cd9-354a-464c-aedc-00b19ca03d9d",
   "metadata": {},
   "outputs": [
    {
     "name": "stdout",
     "output_type": "stream",
     "text": [
      "* SnowSQL * v1.2.21\n",
      "Type SQL statements or !help\n",
      "                                                                                +------------------+---------------------+-------------+-------------+--------------------+--------------------+---------+---------+\n",
      "| \u001b[1msource          \u001b[0m | \u001b[1mtarget             \u001b[0m | \u001b[1msource_size\u001b[0m | \u001b[1mtarget_size\u001b[0m | \u001b[1msource_compression\u001b[0m | \u001b[1mtarget_compression\u001b[0m | \u001b[1mstatus \u001b[0m | \u001b[1mmessage\u001b[0m |\n",
      "|------------------+---------------------+-------------+-------------+--------------------+--------------------+---------+---------|\n",
      "| address_book.csv | address_book.csv.gz |         932 |           0 | NONE               | GZIP               | SKIPPED |         |\n",
      "+------------------+---------------------+-------------+-------------+--------------------+--------------------+---------+---------+\u001b[0m\n",
      "1 Row(s) produced. Time Elapsed: 0.839s\u001b[0m\n",
      "                                                                                Goodbye!\n",
      "\u001b[0m\u001b[0m"
     ]
    }
   ],
   "source": [
    "!/home/ubuntu/bin/snowsql --query \"PUT file://./data/address_book.csv '@mystage';\""
   ]
  },
  {
   "cell_type": "code",
   "execution_count": 2,
   "id": "b8c874c8-c33a-48aa-81f6-d065e45cd26e",
   "metadata": {},
   "outputs": [
    {
     "name": "stdout",
     "output_type": "stream",
     "text": [
      "Address,City,State,Zipcode,Price\n",
      "4611 Marshall Street,Hanover,MD,21076,18000\n",
      "437 Kooter Lane,Charlotte,NC,28202,20000\n",
      "2895 Pinewood Drive,Schaumburg,IL,60173,54000\n",
      "2665 Middlevilee Road,Santa Fe Spring,CA,90670,78800\n",
      "1906 Linda Street,Horsham,PA,19044,13499\n",
      "4612 Marshall Street,Hanover,MD,21076,25000\n",
      "438 Kooter Lane,Charlotte,NC,28202,48000\n",
      "2896 Pinewood Drive,Schaumburg,IL,60173,21400\n",
      "2666 Middlevilee Road,Santa Fe Spring,CA,90670,35460\n",
      "1907 Linda Street,Horsham,PA,19044,26022\n",
      "4613 Marshall Street,Hanover,MD,21076,45200\n",
      "439 Kooter Lane,Charlotte,NC,28202,35300\n",
      "2897 Pinewood Drive,Schaumburg,IL,60173,48400\n",
      "2667 Middlevilee Road,Santa Fe Spring,CA,90670,26750\n",
      "1908 Linda Street,Horsham,PA,19044,15600\n",
      "4614 Marshall Street,Hanover,MD,21076,23300\n",
      "440 Kooter Lane,Charlotte,NC,28202,75700\n",
      "2898 Pinewood Drive,Schaumburg,IL,60173,49400\n",
      "2668 Middlevilee Road,Santa Fe Spring,CA,90670,84100\n",
      "1909 Linda Street,Horsham,PA,19044,67200"
     ]
    }
   ],
   "source": [
    "!cat data/address_book.csv"
   ]
  },
  {
   "cell_type": "code",
   "execution_count": 3,
   "id": "0de7eb66-8bbb-4a90-bca8-b82f33e49e92",
   "metadata": {},
   "outputs": [
    {
     "name": "stdout",
     "output_type": "stream",
     "text": [
      "* SnowSQL * v1.2.21\n",
      "Type SQL statements or !help\n",
      "                                                                                +---------------------------------------+\n",
      "| \u001b[1mstatus                               \u001b[0m |\n",
      "|---------------------------------------|\n",
      "| Copy executed with 0 files processed. |\n",
      "+---------------------------------------+\u001b[0m\n",
      "1 Row(s) produced. Time Elapsed: 1.247s\u001b[0m\n",
      "                                                                                Goodbye!\n",
      "\u001b[0m\u001b[0m"
     ]
    }
   ],
   "source": [
    "!/home/ubuntu/bin/snowsql --query \"COPY INTO HOUSEPRICE.HOUSEPRICESCHEMA.HOUSEPRICE \\\n",
    "                                   FROM '@mystage' \\\n",
    "                                   on_error = continue;\""
   ]
  },
  {
   "cell_type": "code",
   "execution_count": 4,
   "id": "3ad6df99-14f9-4009-83a1-a3df86b53182",
   "metadata": {},
   "outputs": [
    {
     "name": "stdout",
     "output_type": "stream",
     "text": [
      "* SnowSQL * v1.2.21\n",
      "Type SQL statements or !help\n",
      "                                                                                +-----------------------+-----------------+-------+---------+-------+\n",
      "| \u001b[1mADDRESS              \u001b[0m | \u001b[1mCITY           \u001b[0m | \u001b[1mSTATE\u001b[0m | \u001b[1mZIPCODE\u001b[0m | \u001b[1mPRICE\u001b[0m |\n",
      "|-----------------------+-----------------+-------+---------+-------|\n",
      "| 4611 Marshall Street  | Hanover         | MD    |   21076 | 18000 |\n",
      "| 437 Kooter Lane       | Charlotte       | NC    |   28202 | 20000 |\n",
      "| 2895 Pinewood Drive   | Schaumburg      | IL    |   60173 | 54000 |\n",
      "| 2665 Middlevilee Road | Santa Fe Spring | CA    |   90670 | 78800 |\n",
      "| 1906 Linda Street     | Horsham         | PA    |   19044 | 13499 |\n",
      "| 4612 Marshall Street  | Hanover         | MD    |   21076 | 25000 |\n",
      "| 438 Kooter Lane       | Charlotte       | NC    |   28202 | 48000 |\n",
      "| 2896 Pinewood Drive   | Schaumburg      | IL    |   60173 | 21400 |\n",
      "| 2666 Middlevilee Road | Santa Fe Spring | CA    |   90670 | 35460 |\n",
      "| 1907 Linda Street     | Horsham         | PA    |   19044 | 26022 |\n",
      "+-----------------------+-----------------+-------+---------+-------+\u001b[0m\n",
      "10 Row(s) produced. Time Elapsed: 0.718s\u001b[0m\n",
      "                                                                                Goodbye!\n",
      "\u001b[0m\u001b[0m"
     ]
    }
   ],
   "source": [
    "!/home/ubuntu/bin/snowsql --query \"SELECT * FROM HOUSEPRICE.HOUSEPRICESCHEMA.HOUSEPRICE LIMIT 10;\""
   ]
  },
  {
   "cell_type": "code",
   "execution_count": 5,
   "id": "c858d9ba-32e1-4b22-b4d6-e41c0d363b20",
   "metadata": {},
   "outputs": [
    {
     "name": "stdout",
     "output_type": "stream",
     "text": [
      "* SnowSQL * v1.2.21\n",
      "Type SQL statements or !help\n",
      "                                                                                +---------+--------------+\n",
      "| \u001b[1mZIPCODE\u001b[0m | \u001b[1m  AVG(PRICE)\u001b[0m |\n",
      "|---------+--------------|\n",
      "|   19044 | 30580.250000 |\n",
      "|   21076 | 27875.000000 |\n",
      "|   28202 | 44750.000000 |\n",
      "|   60173 | 43300.000000 |\n",
      "|   90670 | 56277.500000 |\n",
      "+---------+--------------+\u001b[0m\n",
      "5 Row(s) produced. Time Elapsed: 0.158s\u001b[0m\n",
      "                                                                                Goodbye!\n",
      "\u001b[0m\u001b[0m"
     ]
    }
   ],
   "source": [
    "!/home/ubuntu/bin/snowsql --query \"SELECT Zipcode, AVG(Price) \\\n",
    "                                   FROM HOUSEPRICE.HOUSEPRICESCHEMA.HOUSEPRICE \\\n",
    "                                   GROUP BY Zipcode \\\n",
    "                                   ORDER BY Zipcode ASC \\\n",
    "                                   LIMIT 10;\""
   ]
  },
  {
   "cell_type": "code",
   "execution_count": null,
   "id": "7ed6b44c-5e23-49bd-8813-146d8c894c8e",
   "metadata": {},
   "outputs": [],
   "source": []
  }
 ],
 "metadata": {
  "kernelspec": {
   "display_name": "Python 3 (ipykernel)",
   "language": "python",
   "name": "python3"
  },
  "language_info": {
   "codemirror_mode": {
    "name": "ipython",
    "version": 3
   },
   "file_extension": ".py",
   "mimetype": "text/x-python",
   "name": "python",
   "nbconvert_exporter": "python",
   "pygments_lexer": "ipython3",
   "version": "3.9.5"
  }
 },
 "nbformat": 4,
 "nbformat_minor": 5
}
