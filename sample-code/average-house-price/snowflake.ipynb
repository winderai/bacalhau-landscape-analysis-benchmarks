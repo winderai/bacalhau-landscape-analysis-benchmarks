{
 "cells": [
  {
   "cell_type": "markdown",
   "id": "da28900a-ef7f-4e7d-858e-a4139e968f16",
   "metadata": {},
   "source": [
    "# Average House Price in Snowflake"
   ]
  },
  {
   "cell_type": "code",
   "execution_count": null,
   "id": "69c8c4b7-53d2-4041-a7c8-85432788871d",
   "metadata": {},
   "outputs": [],
   "source": [
    "- must define schema first\n",
    "\n",
    "\n",
    "# https://docs.snowflake.com/en/user-guide/data-load-web-ui.html#step-1-opening-the-load-data-wizard\n",
    "\n",
    "\n",
    "1) create db\n",
    "2) create schema\n",
    "3) create file format\n",
    "4) follow procedure for Loading Data -> https://docs.snowflake.com/en/user-guide/data-load-web-ui.html#step-1-opening-the-load-data-wizard\n",
    "\n",
    "\n",
    "\n",
    "SELECT * FROM \"TESTDB\".\"TESTSCHEMA\".\"DBTESTTABLE\";\n",
    "\n",
    "\n",
    "SELECT Zipcode, AVG(Price) FROM \"TESTDB\".\"TESTSCHEMA\".\"DBTESTTABLE\" GROUP BY Zipcode ORDER BY Zipcode ASC LIMIT 10;"
   ]
  },
  {
   "cell_type": "code",
   "execution_count": 4,
   "id": "783d2cd9-354a-464c-aedc-00b19ca03d9d",
   "metadata": {},
   "outputs": [
    {
     "name": "stdout",
     "output_type": "stream",
     "text": [
      "* SnowSQL * v1.2.21\n",
      "Type SQL statements or !help\n",
      "                                                                                +------------------+---------------------+-------------+-------------+--------------------+--------------------+----------+---------+\n",
      "| \u001b[1msource          \u001b[0m | \u001b[1mtarget             \u001b[0m | \u001b[1msource_size\u001b[0m | \u001b[1mtarget_size\u001b[0m | \u001b[1msource_compression\u001b[0m | \u001b[1mtarget_compression\u001b[0m | \u001b[1mstatus  \u001b[0m | \u001b[1mmessage\u001b[0m |\n",
      "|------------------+---------------------+-------------+-------------+--------------------+--------------------+----------+---------|\n",
      "| address_book.csv | address_book.csv.gz |         932 |         352 | NONE               | GZIP               | UPLOADED |         |\n",
      "+------------------+---------------------+-------------+-------------+--------------------+--------------------+----------+---------+\u001b[0m\n",
      "1 Row(s) produced. Time Elapsed: 0.555s\u001b[0m\n",
      "                                                                                Goodbye!\n",
      "\u001b[0m\u001b[0m"
     ]
    }
   ],
   "source": [
    "!/home/ubuntu/bin/snowsql --query \"PUT file://./data/address_book.csv '@mystage';\""
   ]
  },
  {
   "cell_type": "code",
   "execution_count": 5,
   "id": "0de7eb66-8bbb-4a90-bca8-b82f33e49e92",
   "metadata": {},
   "outputs": [
    {
     "name": "stdout",
     "output_type": "stream",
     "text": [
      "* SnowSQL * v1.2.21\n",
      "Type SQL statements or !help\n",
      "                                                                                \u001b[31m001757 (42601): SQL compilation error:\n",
      "Table 'HOUSEPRICE' does not exist\u001b[0m\n",
      "                                                                                Goodbye!\n",
      "\u001b[0m\u001b[0m"
     ]
    }
   ],
   "source": [
    "!/home/ubuntu/bin/snowsql --query \"COPY INTO HOUSEPRICE FROM '@mystage:address_book.csv';\""
   ]
  },
  {
   "cell_type": "code",
   "execution_count": 2,
   "id": "3ad6df99-14f9-4009-83a1-a3df86b53182",
   "metadata": {},
   "outputs": [
    {
     "name": "stdout",
     "output_type": "stream",
     "text": [
      "* SnowSQL * v1.2.21\n",
      "Type SQL statements or !help\n",
      "                                                                                \u001b[31m002003 (02000): SQL compilation error:\n",
      "Database 'TESTDB' does not exist or not authorized.\u001b[0m\n",
      "                                                                                Goodbye!\n",
      "\u001b[0m\u001b[0m"
     ]
    }
   ],
   "source": [
    "!/home/ubuntu/bin/snowsql --query \"SELECT * FROM TESTDB.TESTSCHEMA.DBTESTTABLE;\""
   ]
  },
  {
   "cell_type": "code",
   "execution_count": 3,
   "id": "c858d9ba-32e1-4b22-b4d6-e41c0d363b20",
   "metadata": {},
   "outputs": [
    {
     "name": "stdout",
     "output_type": "stream",
     "text": [
      "* SnowSQL * v1.2.21\n",
      "Type SQL statements or !help\n",
      "                                                                                \u001b[31m002003 (02000): SQL compilation error:\n",
      "Database 'TESTDB' does not exist or not authorized.\u001b[0m\n",
      "                                                                                Goodbye!\n",
      "\u001b[0m\u001b[0m"
     ]
    }
   ],
   "source": [
    "!/home/ubuntu/bin/snowsql --query \"SELECT Zipcode, AVG(Price) \\\n",
    "                                   FROM TESTDB.TESTSCHEMA.DBTESTTABLE \\\n",
    "                                   GROUP BY Zipcode \\\n",
    "                                   ORDER BY Zipcode ASC \\\n",
    "                                   LIMIT 10;\""
   ]
  },
  {
   "cell_type": "code",
   "execution_count": null,
   "id": "7ed6b44c-5e23-49bd-8813-146d8c894c8e",
   "metadata": {},
   "outputs": [],
   "source": []
  }
 ],
 "metadata": {
  "kernelspec": {
   "display_name": "Python 3 (ipykernel)",
   "language": "python",
   "name": "python3"
  },
  "language_info": {
   "codemirror_mode": {
    "name": "ipython",
    "version": 3
   },
   "file_extension": ".py",
   "mimetype": "text/x-python",
   "name": "python",
   "nbconvert_exporter": "python",
   "pygments_lexer": "ipython3",
   "version": "3.9.5"
  }
 },
 "nbformat": 4,
 "nbformat_minor": 5
}
