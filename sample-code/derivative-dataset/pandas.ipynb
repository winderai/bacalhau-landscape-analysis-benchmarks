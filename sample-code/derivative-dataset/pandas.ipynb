{
 "cells": [
  {
   "cell_type": "markdown",
   "id": "c992bbd6-bc09-480d-9ea2-d3c845340660",
   "metadata": {},
   "source": [
    "# Print the top 10 rows in Pandas"
   ]
  },
  {
   "cell_type": "code",
   "execution_count": 1,
   "id": "cbbf3023-ee5f-45b0-995e-e52ba7c8437d",
   "metadata": {},
   "outputs": [],
   "source": [
    "import glob\n",
    "import pandas as pd"
   ]
  },
  {
   "cell_type": "code",
   "execution_count": 3,
   "id": "623cb035-dfee-4e65-9f3e-ed678f9da81e",
   "metadata": {},
   "outputs": [
    {
     "name": "stdout",
     "output_type": "stream",
     "text": [
      "data/shoulder.csv\n",
      "    id  trt  sex  age  pain  time\n",
      "0  101    1    2   64     0     1\n",
      "1  101    1    2   64     0     2\n",
      "2  101    1    2   64     0     3\n",
      "3  101    1    2   64     0     4\n",
      "4  101    1    2   64     0     5\n",
      "5  101    1    2   64     0     6\n",
      "6  102    1    1   41     2     1\n",
      "7  102    1    1   41     1     2\n",
      "8  102    1    1   41     0     3\n",
      "9  102    1    1   41     0     4\n",
      "\n",
      "data/MRI2.csv\n",
      "   casenum  age  male  weight  height     aai dsst  numinf\n",
      "0        1   72     1   173.0   169.0  1.0303   25       1\n",
      "1        2   82     0   139.0   170.0  1.1104   51       3\n",
      "2        3   89     1   145.0   170.0  1.0136   27       2\n",
      "3        4   72     1   190.0   181.0    0.98   43       1\n",
      "4        5   70     0   153.0   158.5  0.9485   48       0\n",
      "5        6   73     1   154.5   171.0  1.0625   40       2\n",
      "6        7   74     1   161.5   175.0  1.0683   44       0\n",
      "7        8   74     1   158.2   170.5  1.0517   35       0\n",
      "8        9   69     0   168.0   158.5  1.1077   46       1\n",
      "9       10   69     0   127.0   167.5  1.0551   47       0\n",
      "\n",
      "data/sharklengths.csv\n",
      "   length\n",
      "0    18.7\n",
      "1    16.4\n",
      "2    13.2\n",
      "3    19.1\n",
      "4    12.3\n",
      "5    16.7\n",
      "6    15.8\n",
      "7    16.2\n",
      "8    18.6\n",
      "9    17.8\n",
      "\n",
      "data/MRIdata.csv\n",
      "   ptid  mridate  age  male  race  weight  height packyrs  yrsqui t   alcoh  \\\n",
      "0     1   120791   72     1     2   173.0   169.0      54       0         0   \n",
      "1     2    90192   81     0     2   139.0   170.0       0       0      0.25   \n",
      "2     3    82092   90     1     2   145.0   170.0       0       0      1.25   \n",
      "3     4    73192   72     1     1   190.0   181.0      33      17       9.5   \n",
      "4     5   111691   70     0     1   153.0   158.5       0       0      0.25   \n",
      "5     6    82292   72     1     4   154.5   171.0    58.5      21        21   \n",
      "6     7    71892   75     1     1   161.5   175.0      30      12         0   \n",
      "7     8    82692   75     1     2   158.2   170.5       0       0         1   \n",
      "8     9    80692   67     0     1   168.0   158.5       0       0         0   \n",
      "9    10   122191   70     0     1   127.0   167.5   16.45       0         8   \n",
      "\n",
      "   ...    sbp     aai    fev  dsst  atrophy  whgrd numinf  volinf obstime  \\\n",
      "0  ...  139.0  1.0303  1.284    25       20      2      1  7.4613    2110   \n",
      "1  ...  146.0  1.1104  2.553    51       43      2      3  0.1414    1841   \n",
      "2  ...  134.0  1.0136  2.383    27       35      1      2  0.1885    1853   \n",
      "3  ...  147.0    0.98  2.699    43       32      2      1  0.0419    1873   \n",
      "4  ...  117.0  0.9485  2.031    48       27      1      0       0    2131   \n",
      "5  ...  146.0  1.0625   2.41    40       18      1      2  0.2094    1851   \n",
      "6  ...  140.0  1.0683  3.586    44       38      2      0       0    1886   \n",
      "7  ...  171.0  1.0517  2.958    35       20      1      0       0    1847   \n",
      "8  ...  121.0  1.1077  1.916    46       40      2      1  0.0314    1867   \n",
      "9  ...   89.0  1.0551      .    47       36      1      0       0    2096   \n",
      "\n",
      "  death  \n",
      "0     0  \n",
      "1     0  \n",
      "2     0  \n",
      "3     0  \n",
      "4     0  \n",
      "5     0  \n",
      "6     0  \n",
      "7     0  \n",
      "8     0  \n",
      "9     0  \n",
      "\n",
      "[10 rows x 30 columns]\n",
      "\n",
      "data/hpv.csv\n",
      "      ELISA  FootWart\n",
      "0  0.028333         0\n",
      "1 -0.009000         0\n",
      "2  0.087333         0\n",
      "3  0.615667         1\n",
      "4  0.140333         0\n",
      "5  0.497333         0\n",
      "6  0.190000         0\n",
      "7  0.245333         0\n",
      "8  0.048000         0\n",
      "9  0.058333         0\n",
      "\n"
     ]
    }
   ],
   "source": [
    "for file_path in glob.glob('data/*.csv'):\n",
    "    print(file_path)\n",
    "    df = pd.read_csv(file_path)\n",
    "    df_head = df.head(10)\n",
    "    print(df_head)\n",
    "    print()"
   ]
  },
  {
   "cell_type": "code",
   "execution_count": null,
   "id": "bbb36d3a-6181-405d-a57b-bdcf8f257a43",
   "metadata": {},
   "outputs": [],
   "source": []
  }
 ],
 "metadata": {
  "kernelspec": {
   "display_name": "Python 3 (ipykernel)",
   "language": "python",
   "name": "python3"
  },
  "language_info": {
   "codemirror_mode": {
    "name": "ipython",
    "version": 3
   },
   "file_extension": ".py",
   "mimetype": "text/x-python",
   "name": "python",
   "nbconvert_exporter": "python",
   "pygments_lexer": "ipython3",
   "version": "3.9.5"
  }
 },
 "nbformat": 4,
 "nbformat_minor": 5
}
