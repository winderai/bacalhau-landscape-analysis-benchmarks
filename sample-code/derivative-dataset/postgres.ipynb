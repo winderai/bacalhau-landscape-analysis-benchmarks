{
 "cells": [
  {
   "cell_type": "markdown",
   "id": "131e88e5-8805-4dbd-80c2-81789e912c68",
   "metadata": {},
   "source": [
    "# Print the top 10 rows in Postgres"
   ]
  },
  {
   "cell_type": "markdown",
   "id": "fb7cb575-b07a-4154-be53-7c365bd6d1ad",
   "metadata": {},
   "source": [
    "Make sure postgres is running."
   ]
  },
  {
   "cell_type": "code",
   "execution_count": 1,
   "id": "2a5813c0-b9e7-4c0d-89bd-41ff13a31638",
   "metadata": {},
   "outputs": [
    {
     "name": "stdout",
     "output_type": "stream",
     "text": [
      "                                                             version                                                              \n",
      "----------------------------------------------------------------------------------------------------------------------------------\n",
      " PostgreSQL 14.2 (Ubuntu 14.2-1.pgdg20.04+1) on x86_64-pc-linux-gnu, compiled by gcc (Ubuntu 9.3.0-17ubuntu1~20.04) 9.3.0, 64-bit\n",
      "(1 row)\n",
      "\n"
     ]
    }
   ],
   "source": [
    "%%bash\n",
    "sudo -n -u postgres psql -c \"SELECT version();\""
   ]
  },
  {
   "cell_type": "code",
   "execution_count": 2,
   "id": "813434a1-629b-4513-88ea-2417f48d82c1",
   "metadata": {},
   "outputs": [],
   "source": [
    "%%bash\n",
    "sudo -n -u postgres dropdb derivative-dataset\n",
    "sudo -n -u postgres createdb derivative-dataset"
   ]
  },
  {
   "cell_type": "code",
   "execution_count": 3,
   "id": "f3383624-6694-4a66-9095-c959a6c9c7a4",
   "metadata": {},
   "outputs": [
    {
     "name": "stdout",
     "output_type": "stream",
     "text": [
      "GRANT\n",
      "ALTER ROLE\n"
     ]
    }
   ],
   "source": [
    "%%bash\n",
    "sudo -n -u postgres psql -c \"GRANT ALL PRIVILEGES ON DATABASE \\\"derivative-dataset\\\" TO ubuntu\";\n",
    "sudo -n -u postgres psql -c \"ALTER USER ubuntu PASSWORD 'my_ubuntu_password';\";"
   ]
  },
  {
   "cell_type": "code",
   "execution_count": 4,
   "id": "62beadeb-dc20-42fb-b24b-41d488bc641e",
   "metadata": {},
   "outputs": [
    {
     "name": "stdout",
     "output_type": "stream",
     "text": [
      "/home/ubuntu/miniconda3/lib/python3.9/site-packages/agate/table/from_csv.py:74: RuntimeWarning: Error sniffing CSV dialect: Could not determine delimiter\n",
      "/home/ubuntu/miniconda3/lib/python3.9/site-packages/agate/table/from_csv.py:74: RuntimeWarning: Error sniffing CSV dialect: Could not determine delimiter\n"
     ]
    }
   ],
   "source": [
    "!for f in data/*.csv; do \\\n",
    "    PGPASSWORD=my_ubuntu_password \\\n",
    "    csvsql --db postgresql://127.0.0.1/derivative-dataset \\\n",
    "    --insert \"$f\"; \\\n",
    "done"
   ]
  },
  {
   "cell_type": "code",
   "execution_count": 5,
   "id": "812bb921-de13-407b-882b-aa63bf0d74df",
   "metadata": {},
   "outputs": [
    {
     "name": "stdout",
     "output_type": "stream",
     "text": [
      "           List of relations\n",
      " Schema |     Name     | Type  | Owner  \n",
      "--------+--------------+-------+--------\n",
      " public | MRI2         | table | ubuntu\n",
      " public | MRIdata      | table | ubuntu\n",
      " public | hpv          | table | ubuntu\n",
      " public | sharklengths | table | ubuntu\n",
      " public | shoulder     | table | ubuntu\n",
      "(5 rows)\n",
      "\n"
     ]
    }
   ],
   "source": [
    "!psql -d derivative-dataset -c \"\\d\""
   ]
  },
  {
   "cell_type": "code",
   "execution_count": 6,
   "id": "8e910f62-a1cd-42e3-9e00-7f858883d938",
   "metadata": {},
   "outputs": [
    {
     "name": "stdout",
     "output_type": "stream",
     "text": [
      "MRI2\n",
      " casenum | age | male | weight | height |  aai   | dsst | numinf \n",
      "---------+-----+------+--------+--------+--------+------+--------\n",
      "       1 |  72 | t    |    173 |    169 | 1.0303 |   25 |      1\n",
      "       2 |  82 | f    |    139 |    170 | 1.1104 |   51 |      3\n",
      "       3 |  89 | t    |    145 |    170 | 1.0136 |   27 |      2\n",
      "       4 |  72 | t    |    190 |    181 |   0.98 |   43 |      1\n",
      "       5 |  70 | f    |    153 |  158.5 | 0.9485 |   48 |      0\n",
      "       6 |  73 | t    |  154.5 |    171 | 1.0625 |   40 |      2\n",
      "       7 |  74 | t    |  161.5 |    175 | 1.0683 |   44 |      0\n",
      "       8 |  74 | t    |  158.2 |  170.5 | 1.0517 |   35 |      0\n",
      "       9 |  69 | f    |    168 |  158.5 | 1.1077 |   46 |      1\n",
      "      10 |  69 | f    |    127 |  167.5 | 1.0551 |   47 |      0\n",
      "(10 rows)\n",
      "\n",
      "\n",
      "MRIdata\n",
      " ptid | mridate | age | male | race | weight | height | packyrs | yrsqui | t   alcoh | physact | chf | chd | stroke | diabet | genhlth | ldl | alb | crt | plt | sbp |  aai   |  fev  | dsst | atrophy | whgrd | numinf | volinf | obstime | death \n",
      "------+---------+-----+------+------+--------+--------+---------+--------+-----------+---------+-----+-----+--------+--------+---------+-----+-----+-----+-----+-----+--------+-------+------+---------+-------+--------+--------+---------+-------\n",
      "    1 |  120791 |  72 | t    |    2 |    173 |    169 |      54 |      0 | 0         |    9.84 | f   |   1 |      2 | f      |       3 | 135 | 3.7 | 1.4 | 275 | 139 | 1.0303 | 1.284 |   25 |      20 |     2 |      1 | 7.4613 |    2110 | f\n",
      "    2 |   90192 |  81 | f    |    2 |    139 |    170 |       0 |      0 | 0.25      |    0.78 | f   |   0 |      0 | f      |       2 |  84 | 3.8 | 1.3 | 142 | 146 | 1.1104 | 2.553 |   51 |      43 |     2 |      3 | 0.1414 |    1841 | f\n",
      "    3 |   82092 |  90 | t    |    2 |    145 |    170 |       0 |      0 | 1.25      |   1.635 | f   |   0 |      0 | f      |       3 | 115 | 4.2 | 1.2 | 192 | 134 | 1.0136 | 2.383 |   27 |      35 |     1 |      2 | 0.1885 |    1853 | f\n",
      "    4 |   73192 |  72 | t    |    1 |    190 |    181 |      33 |     17 | 9.5       |  3.5175 | f   |   0 |      0 | f      |       2 |  61 | 4.3 | 1.1 | 133 | 147 |   0.98 | 2.699 |   43 |      32 |     2 |      1 | 0.0419 |    1873 | f\n",
      "    5 |  111691 |  70 | f    |    1 |    153 |  158.5 |       0 |      0 | 0.25      |    0.75 | f   |   0 |      0 | f      |       2 | 148 | 4.1 | 0.6 | 266 | 117 | 0.9485 | 2.031 |   48 |      27 |     1 |      0 |      0 |    2131 | f\n",
      "    6 |   82292 |  72 | t    |    4 |  154.5 |    171 |    58.5 |     21 | 21        |    3.03 | f   |   0 |      0 | f      |       2 | 163 | 3.9 |   1 | 539 | 146 | 1.0625 |  2.41 |   40 |      18 |     1 |      2 | 0.2094 |    1851 | f\n",
      "    7 |   71892 |  75 | t    |    1 |  161.5 |    175 |      30 |     12 | 0         |    1.18 | f   |   0 |      2 | t      |       2 | 101 | 3.7 |   1 | 167 | 140 | 1.0683 | 3.586 |   44 |      38 |     2 |      0 |      0 |    1886 | f\n",
      "    8 |   82692 |  75 | t    |    2 |  158.2 |  170.5 |       0 |      0 | 1         |  6.0525 | f   |   0 |      0 | f      |       3 | 116 | 3.9 |   1 | 198 | 171 | 1.0517 | 2.958 |   35 |      20 |     1 |      0 |      0 |    1847 | f\n",
      "    9 |   80692 |  67 | f    |    1 |    168 |  158.5 |       0 |      0 | 0         |     0.9 | f   |   0 |      0 | f      |       3 | 124 |     |     |     | 121 | 1.1077 | 1.916 |   46 |      40 |     2 |      1 | 0.0314 |    1867 | f\n",
      "   10 |  122191 |  70 | f    |    1 |    127 |  167.5 |   16.45 |      0 | 8         |   0.135 | f   |   0 |      0 | f      |       3 | 110 | 3.2 | 0.6 | 108 |  89 | 1.0551 |       |   47 |      36 |     1 |      0 |      0 |    2096 | f\n",
      "(10 rows)\n",
      "\n",
      "\n",
      "hpv\n",
      "   ELISA   | FootWart \n",
      "-----------+----------\n",
      " 0.0283333 | f\n",
      "    -0.009 | f\n",
      " 0.0873333 | f\n",
      " 0.6156667 | t\n",
      " 0.1403333 | f\n",
      " 0.4973333 | f\n",
      "      0.19 | f\n",
      " 0.2453333 | f\n",
      "     0.048 | f\n",
      " 0.0583333 | f\n",
      "(10 rows)\n",
      "\n",
      "\n",
      "sharklengths\n",
      " length \n",
      "--------\n",
      "   18.7\n",
      "   16.4\n",
      "   13.2\n",
      "   19.1\n",
      "   12.3\n",
      "   16.7\n",
      "   15.8\n",
      "   16.2\n",
      "   18.6\n",
      "   17.8\n",
      "(10 rows)\n",
      "\n",
      "\n",
      "shoulder\n",
      " id  | trt | sex | age | pain | time \n",
      "-----+-----+-----+-----+------+------\n",
      " 101 |   1 |   2 |  64 |    0 |    1\n",
      " 101 |   1 |   2 |  64 |    0 |    2\n",
      " 101 |   1 |   2 |  64 |    0 |    3\n",
      " 101 |   1 |   2 |  64 |    0 |    4\n",
      " 101 |   1 |   2 |  64 |    0 |    5\n",
      " 101 |   1 |   2 |  64 |    0 |    6\n",
      " 102 |   1 |   1 |  41 |    2 |    1\n",
      " 102 |   1 |   1 |  41 |    1 |    2\n",
      " 102 |   1 |   1 |  41 |    0 |    3\n",
      " 102 |   1 |   1 |  41 |    0 |    4\n",
      "(10 rows)\n",
      "\n",
      "\n"
     ]
    }
   ],
   "source": [
    "%%bash\n",
    "table_list=$(psql -d derivative-dataset --tuples-only -c \"\\d\" | awk  '{ print $3 }')\n",
    "for f in $table_list; do \\\n",
    "    echo $f\n",
    "    sudo -n -u postgres psql -d derivative-dataset \\\n",
    "    -c \"SELECT * FROM \\\"$f\\\" LIMIT 10;\"; \\\n",
    "    echo\n",
    "done"
   ]
  },
  {
   "cell_type": "code",
   "execution_count": null,
   "id": "17ea9080-62e5-44d2-b3bf-57cf84a37fb2",
   "metadata": {},
   "outputs": [],
   "source": []
  }
 ],
 "metadata": {
  "kernelspec": {
   "display_name": "Python 3",
   "language": "python",
   "name": "python3"
  },
  "language_info": {
   "codemirror_mode": {
    "name": "ipython",
    "version": 3
   },
   "file_extension": ".py",
   "mimetype": "text/x-python",
   "name": "python",
   "nbconvert_exporter": "python",
   "pygments_lexer": "ipython3",
   "version": "3.9.5"
  }
 },
 "nbformat": 4,
 "nbformat_minor": 5
}
