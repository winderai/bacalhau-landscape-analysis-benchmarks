{
 "cells": [
  {
   "cell_type": "markdown",
   "id": "b14f5a23-8188-4b4a-a3db-9f65a83b8ec7",
   "metadata": {},
   "source": [
    "# Print the top 10 rows in Spark"
   ]
  },
  {
   "cell_type": "code",
   "execution_count": 1,
   "id": "c58d8973-3f0b-4a04-be00-fad0549bb154",
   "metadata": {},
   "outputs": [],
   "source": [
    "!pip install --quiet pyspark"
   ]
  },
  {
   "cell_type": "code",
   "execution_count": 16,
   "id": "1f17efd3-8a5d-467c-8859-4433deb99d0d",
   "metadata": {},
   "outputs": [],
   "source": [
    "def print_top_10_rows(file_path):\n",
    "    import pandas as pd\n",
    "    df = pd.read_csv(file_path)\n",
    "    df_head = df.head(10)\n",
    "    return df_head"
   ]
  },
  {
   "cell_type": "code",
   "execution_count": 19,
   "id": "54047ede-8c97-47ad-91a6-8d37e47207d5",
   "metadata": {},
   "outputs": [],
   "source": [
    "import glob\n",
    "from pyspark.sql import SparkSession\n",
    "\n",
    "spark = SparkSession.builder.getOrCreate()\n",
    "\n",
    "# resilient distributed dataset\n",
    "rdd = spark.sparkContext.parallelize(glob.glob('data/*.csv'))\n",
    "rdd_head = rdd.map(lambda file_path: print_top_10_rows(file_path))"
   ]
  },
  {
   "cell_type": "code",
   "execution_count": 21,
   "id": "625d8d35-bea9-4581-ad3a-b9e8d33db120",
   "metadata": {},
   "outputs": [
    {
     "data": {
      "text/plain": [
       "5"
      ]
     },
     "execution_count": 21,
     "metadata": {},
     "output_type": "execute_result"
    }
   ],
   "source": [
    "rdd_head.count()"
   ]
  },
  {
   "cell_type": "code",
   "execution_count": 27,
   "id": "44fe95f2-cb47-4836-97c9-effb70415bfb",
   "metadata": {},
   "outputs": [
    {
     "data": {
      "text/plain": [
       "[    id  trt  sex  age  pain  time\n",
       " 0  101    1    2   64     0     1\n",
       " 1  101    1    2   64     0     2\n",
       " 2  101    1    2   64     0     3\n",
       " 3  101    1    2   64     0     4\n",
       " 4  101    1    2   64     0     5\n",
       " 5  101    1    2   64     0     6\n",
       " 6  102    1    1   41     2     1\n",
       " 7  102    1    1   41     1     2\n",
       " 8  102    1    1   41     0     3\n",
       " 9  102    1    1   41     0     4,\n",
       "    casenum  age  male  weight  height     aai dsst  numinf\n",
       " 0        1   72     1   173.0   169.0  1.0303   25       1\n",
       " 1        2   82     0   139.0   170.0  1.1104   51       3\n",
       " 2        3   89     1   145.0   170.0  1.0136   27       2\n",
       " 3        4   72     1   190.0   181.0    0.98   43       1\n",
       " 4        5   70     0   153.0   158.5  0.9485   48       0\n",
       " 5        6   73     1   154.5   171.0  1.0625   40       2\n",
       " 6        7   74     1   161.5   175.0  1.0683   44       0\n",
       " 7        8   74     1   158.2   170.5  1.0517   35       0\n",
       " 8        9   69     0   168.0   158.5  1.1077   46       1\n",
       " 9       10   69     0   127.0   167.5  1.0551   47       0]"
      ]
     },
     "execution_count": 27,
     "metadata": {},
     "output_type": "execute_result"
    }
   ],
   "source": [
    "# print first two results\n",
    "rdd_head.take(2)"
   ]
  },
  {
   "cell_type": "code",
   "execution_count": null,
   "id": "96508a49-4c61-4df7-b05d-3d1694985b1a",
   "metadata": {},
   "outputs": [],
   "source": []
  },
  {
   "cell_type": "code",
   "execution_count": null,
   "id": "72bb3502-e74f-4a43-b250-23ce1f3e0654",
   "metadata": {},
   "outputs": [],
   "source": []
  }
 ],
 "metadata": {
  "kernelspec": {
   "display_name": "Python 3",
   "language": "python",
   "name": "python3"
  },
  "language_info": {
   "codemirror_mode": {
    "name": "ipython",
    "version": 3
   },
   "file_extension": ".py",
   "mimetype": "text/x-python",
   "name": "python",
   "nbconvert_exporter": "python",
   "pygments_lexer": "ipython3",
   "version": "3.9.5"
  }
 },
 "nbformat": 4,
 "nbformat_minor": 5
}
