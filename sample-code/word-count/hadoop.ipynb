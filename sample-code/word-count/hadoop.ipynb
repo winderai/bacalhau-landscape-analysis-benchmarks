{
 "cells": [
  {
   "cell_type": "markdown",
   "id": "9f4c3c55-743d-4f4e-ad70-ebd075921af3",
   "metadata": {},
   "source": [
    "# Hadoop Word Count\n"
   ]
  },
  {
   "cell_type": "code",
   "execution_count": 1,
   "id": "8f16146e-3e2e-42d2-93df-a468308eaedb",
   "metadata": {},
   "outputs": [
    {
     "name": "stdout",
     "output_type": "stream",
     "text": [
      "Writing WordCount.java\n"
     ]
    }
   ],
   "source": [
    "%%writefile WordCount.java\n",
    "import java.io.IOException;\n",
    "import java.util.StringTokenizer;\n",
    "\n",
    "import org.apache.hadoop.conf.Configuration;\n",
    "import org.apache.hadoop.fs.Path;\n",
    "import org.apache.hadoop.io.IntWritable;\n",
    "import org.apache.hadoop.io.Text;\n",
    "import org.apache.hadoop.mapreduce.Job;\n",
    "import org.apache.hadoop.mapreduce.Mapper;\n",
    "import org.apache.hadoop.mapreduce.Reducer;\n",
    "import org.apache.hadoop.mapreduce.lib.input.FileInputFormat;\n",
    "import org.apache.hadoop.mapreduce.lib.output.FileOutputFormat;\n",
    "\n",
    "public class WordCount {\n",
    "\n",
    "  public static class TokenizerMapper\n",
    "       extends Mapper<Object, Text, Text, IntWritable>{\n",
    "\n",
    "    private final static IntWritable one = new IntWritable(1);\n",
    "    private Text word = new Text();\n",
    "\n",
    "    public void map(Object key, Text value, Context context\n",
    "                    ) throws IOException, InterruptedException {\n",
    "      StringTokenizer itr = new StringTokenizer(value.toString());\n",
    "      while (itr.hasMoreTokens()) {\n",
    "        word.set(itr.nextToken());\n",
    "        context.write(word, one);\n",
    "      }\n",
    "    }\n",
    "  }\n",
    "\n",
    "  public static class IntSumReducer\n",
    "       extends Reducer<Text,IntWritable,Text,IntWritable> {\n",
    "    private IntWritable result = new IntWritable();\n",
    "\n",
    "    public void reduce(Text key, Iterable<IntWritable> values,\n",
    "                       Context context\n",
    "                       ) throws IOException, InterruptedException {\n",
    "      int sum = 0;\n",
    "      for (IntWritable val : values) {\n",
    "        sum += val.get();\n",
    "      }\n",
    "      result.set(sum);\n",
    "      context.write(key, result);\n",
    "    }\n",
    "  }\n",
    "\n",
    "  public static void main(String[] args) throws Exception {\n",
    "    Configuration conf = new Configuration();\n",
    "    Job job = Job.getInstance(conf, \"word count\");\n",
    "    job.setJarByClass(WordCount.class);\n",
    "    job.setMapperClass(TokenizerMapper.class);\n",
    "    job.setCombinerClass(IntSumReducer.class);\n",
    "    job.setReducerClass(IntSumReducer.class);\n",
    "    job.setOutputKeyClass(Text.class);\n",
    "    job.setOutputValueClass(IntWritable.class);\n",
    "    FileInputFormat.addInputPath(job, new Path(args[0]));\n",
    "    FileOutputFormat.setOutputPath(job, new Path(args[1]));\n",
    "    System.exit(job.waitForCompletion(true) ? 0 : 1);\n",
    "  }\n",
    "}"
   ]
  },
  {
   "cell_type": "code",
   "execution_count": 2,
   "id": "6e1764fa-354a-4373-a8d2-1fce1acc680f",
   "metadata": {},
   "outputs": [
    {
     "name": "stdout",
     "output_type": "stream",
     "text": [
      "env: PATH=/usr/lib/jvm/java-8-openjdk-amd64/bin:/home/ubuntu/bin:/home/ubuntu/bin:/home/ubuntu/miniconda3/bin:/home/ubuntu/miniconda3/condabin:/usr/lib/jvm/java-8-openjdk-amd64/bin:/usr/local/sbin:/usr/local/bin:/usr/sbin:/usr/bin:/sbin:/bin:/usr/games:/usr/local/games:/snap/bin\n",
      "env: HADOOP_CLASSPATH=/usr/lib/jvm/java-8-openjdk-amd64/lib/tools.jar\n"
     ]
    }
   ],
   "source": [
    "%env PATH=/usr/lib/jvm/java-8-openjdk-amd64/bin:/home/ubuntu/bin:/home/ubuntu/bin:/home/ubuntu/miniconda3/bin:/home/ubuntu/miniconda3/condabin:/usr/lib/jvm/java-8-openjdk-amd64/bin:/usr/local/sbin:/usr/local/bin:/usr/sbin:/usr/bin:/sbin:/bin:/usr/games:/usr/local/games:/snap/bin\n",
    "%env HADOOP_CLASSPATH=/usr/lib/jvm/java-8-openjdk-amd64/lib/tools.jar"
   ]
  },
  {
   "cell_type": "markdown",
   "id": "381712f2-5531-49ef-b604-88ec24f98ff3",
   "metadata": {},
   "source": [
    "You probably have `HADOOP_HOME` set up during the installation instructions.\n",
    "If that's not the case, please configure it."
   ]
  },
  {
   "cell_type": "code",
   "execution_count": 3,
   "id": "17b6201d-b9fe-40b3-948a-adaa898a7a3f",
   "metadata": {},
   "outputs": [
    {
     "name": "stdout",
     "output_type": "stream",
     "text": [
      "env: HADOOP_HOME=/home/ubuntu/hadoop-3.3.1\n"
     ]
    }
   ],
   "source": [
    "%env HADOOP_HOME=/home/ubuntu/hadoop-3.3.1"
   ]
  },
  {
   "cell_type": "markdown",
   "id": "b3ea798d-9906-468f-8e6d-7907592aa7c9",
   "metadata": {},
   "source": [
    "### Create JAR file"
   ]
  },
  {
   "cell_type": "code",
   "execution_count": 4,
   "id": "3dfa5b6b-10e4-4aad-8414-af8eae4a492e",
   "metadata": {},
   "outputs": [],
   "source": [
    "!$HADOOP_HOME/bin/hadoop com.sun.tools.javac.Main WordCount.java"
   ]
  },
  {
   "cell_type": "code",
   "execution_count": 5,
   "id": "ca0e235a-c6a8-4a24-aad6-30481cbd109f",
   "metadata": {},
   "outputs": [],
   "source": [
    "!jar cf wc.jar WordCount*.class"
   ]
  },
  {
   "cell_type": "markdown",
   "id": "33d36828-186a-4220-9a82-f774fe0c5e0d",
   "metadata": {},
   "source": [
    "## Launch job"
   ]
  },
  {
   "cell_type": "code",
   "execution_count": 6,
   "id": "8bda15e8-5710-423c-9967-05dfebc1cacf",
   "metadata": {},
   "outputs": [
    {
     "name": "stdout",
     "output_type": "stream",
     "text": [
      "2022-03-17 15:17:52,689 INFO impl.MetricsConfig: Loaded properties from hadoop-metrics2.properties\n",
      "2022-03-17 15:17:52,768 INFO impl.MetricsSystemImpl: Scheduled Metric snapshot period at 10 second(s).\n",
      "2022-03-17 15:17:52,768 INFO impl.MetricsSystemImpl: JobTracker metrics system started\n",
      "2022-03-17 15:17:52,831 WARN mapreduce.JobResourceUploader: Hadoop command-line option parsing not performed. Implement the Tool interface and execute your application with ToolRunner to remedy this.\n",
      "2022-03-17 15:17:52,894 INFO input.FileInputFormat: Total input files to process : 1\n",
      "2022-03-17 15:17:52,915 INFO mapreduce.JobSubmitter: number of splits:1\n",
      "2022-03-17 15:17:53,043 INFO mapreduce.JobSubmitter: Submitting tokens for job: job_local1965851386_0001\n",
      "2022-03-17 15:17:53,043 INFO mapreduce.JobSubmitter: Executing with tokens: []\n",
      "2022-03-17 15:17:53,159 INFO mapreduce.Job: The url to track the job: http://localhost:8080/\n",
      "2022-03-17 15:17:53,160 INFO mapreduce.Job: Running job: job_local1965851386_0001\n",
      "2022-03-17 15:17:53,165 INFO mapred.LocalJobRunner: OutputCommitter set in config null\n",
      "2022-03-17 15:17:53,171 INFO output.FileOutputCommitter: File Output Committer Algorithm version is 2\n",
      "2022-03-17 15:17:53,171 INFO output.FileOutputCommitter: FileOutputCommitter skip cleanup _temporary folders under output directory:false, ignore cleanup failures: false\n",
      "2022-03-17 15:17:53,171 INFO mapred.LocalJobRunner: OutputCommitter is org.apache.hadoop.mapreduce.lib.output.FileOutputCommitter\n",
      "2022-03-17 15:17:53,205 INFO mapred.LocalJobRunner: Waiting for map tasks\n",
      "2022-03-17 15:17:53,205 INFO mapred.LocalJobRunner: Starting task: attempt_local1965851386_0001_m_000000_0\n",
      "2022-03-17 15:17:53,223 INFO output.FileOutputCommitter: File Output Committer Algorithm version is 2\n",
      "2022-03-17 15:17:53,223 INFO output.FileOutputCommitter: FileOutputCommitter skip cleanup _temporary folders under output directory:false, ignore cleanup failures: false\n",
      "2022-03-17 15:17:53,242 INFO mapred.Task:  Using ResourceCalculatorProcessTree : [ ]\n",
      "2022-03-17 15:17:53,249 INFO mapred.MapTask: Processing split: file:/home/ubuntu/sample-code-benchmark/sample-code/word-count/data/wordcount.txt:0+4921\n",
      "2022-03-17 15:17:53,324 INFO mapred.MapTask: (EQUATOR) 0 kvi 26214396(104857584)\n",
      "2022-03-17 15:17:53,324 INFO mapred.MapTask: mapreduce.task.io.sort.mb: 100\n",
      "2022-03-17 15:17:53,325 INFO mapred.MapTask: soft limit at 83886080\n",
      "2022-03-17 15:17:53,325 INFO mapred.MapTask: bufstart = 0; bufvoid = 104857600\n",
      "2022-03-17 15:17:53,325 INFO mapred.MapTask: kvstart = 26214396; length = 6553600\n",
      "2022-03-17 15:17:53,329 INFO mapred.MapTask: Map output collector class = org.apache.hadoop.mapred.MapTask$MapOutputBuffer\n",
      "2022-03-17 15:17:53,350 INFO mapred.LocalJobRunner: \n",
      "2022-03-17 15:17:53,350 INFO mapred.MapTask: Starting flush of map output\n",
      "2022-03-17 15:17:53,350 INFO mapred.MapTask: Spilling map output\n",
      "2022-03-17 15:17:53,350 INFO mapred.MapTask: bufstart = 0; bufend = 8162; bufvoid = 104857600\n",
      "2022-03-17 15:17:53,350 INFO mapred.MapTask: kvstart = 26214396(104857584); kvend = 26211160(104844640); length = 3237/6553600\n",
      "2022-03-17 15:17:53,378 INFO mapred.MapTask: Finished spill 0\n",
      "2022-03-17 15:17:53,385 INFO mapred.Task: Task:attempt_local1965851386_0001_m_000000_0 is done. And is in the process of committing\n",
      "2022-03-17 15:17:53,387 INFO mapred.LocalJobRunner: map\n",
      "2022-03-17 15:17:53,387 INFO mapred.Task: Task 'attempt_local1965851386_0001_m_000000_0' done.\n",
      "2022-03-17 15:17:53,393 INFO mapred.Task: Final Counters for attempt_local1965851386_0001_m_000000_0: Counters: 18\n",
      "\tFile System Counters\n",
      "\t\tFILE: Number of bytes read=8192\n",
      "\t\tFILE: Number of bytes written=639236\n",
      "\t\tFILE: Number of read operations=0\n",
      "\t\tFILE: Number of large read operations=0\n",
      "\t\tFILE: Number of write operations=0\n",
      "\tMap-Reduce Framework\n",
      "\t\tMap input records=44\n",
      "\t\tMap output records=810\n",
      "\t\tMap output bytes=8162\n",
      "\t\tMap output materialized bytes=5161\n",
      "\t\tInput split bytes=146\n",
      "\t\tCombine input records=810\n",
      "\t\tCombine output records=381\n",
      "\t\tSpilled Records=381\n",
      "\t\tFailed Shuffles=0\n",
      "\t\tMerged Map outputs=0\n",
      "\t\tGC time elapsed (ms)=0\n",
      "\t\tTotal committed heap usage (bytes)=265814016\n",
      "\tFile Input Format Counters \n",
      "\t\tBytes Read=4921\n",
      "2022-03-17 15:17:53,393 INFO mapred.LocalJobRunner: Finishing task: attempt_local1965851386_0001_m_000000_0\n",
      "2022-03-17 15:17:53,393 INFO mapred.LocalJobRunner: map task executor complete.\n",
      "2022-03-17 15:17:53,396 INFO mapred.LocalJobRunner: Waiting for reduce tasks\n",
      "2022-03-17 15:17:53,396 INFO mapred.LocalJobRunner: Starting task: attempt_local1965851386_0001_r_000000_0\n",
      "2022-03-17 15:17:53,401 INFO output.FileOutputCommitter: File Output Committer Algorithm version is 2\n",
      "2022-03-17 15:17:53,401 INFO output.FileOutputCommitter: FileOutputCommitter skip cleanup _temporary folders under output directory:false, ignore cleanup failures: false\n",
      "2022-03-17 15:17:53,401 INFO mapred.Task:  Using ResourceCalculatorProcessTree : [ ]\n",
      "2022-03-17 15:17:53,403 INFO mapred.ReduceTask: Using ShuffleConsumerPlugin: org.apache.hadoop.mapreduce.task.reduce.Shuffle@6fe9ba39\n",
      "2022-03-17 15:17:53,405 WARN impl.MetricsSystemImpl: JobTracker metrics system already initialized!\n",
      "2022-03-17 15:17:53,418 INFO reduce.MergeManagerImpl: MergerManager: memoryLimit=1297350656, maxSingleShuffleLimit=324337664, mergeThreshold=856251456, ioSortFactor=10, memToMemMergeOutputsThreshold=10\n",
      "2022-03-17 15:17:53,425 INFO reduce.EventFetcher: attempt_local1965851386_0001_r_000000_0 Thread started: EventFetcher for fetching Map Completion Events\n",
      "2022-03-17 15:17:53,443 INFO reduce.LocalFetcher: localfetcher#1 about to shuffle output of map attempt_local1965851386_0001_m_000000_0 decomp: 5157 len: 5161 to MEMORY\n",
      "2022-03-17 15:17:53,445 INFO reduce.InMemoryMapOutput: Read 5157 bytes from map-output for attempt_local1965851386_0001_m_000000_0\n",
      "2022-03-17 15:17:53,446 INFO reduce.MergeManagerImpl: closeInMemoryFile -> map-output of size: 5157, inMemoryMapOutputs.size() -> 1, commitMemory -> 0, usedMemory ->5157\n",
      "2022-03-17 15:17:53,447 INFO reduce.EventFetcher: EventFetcher is interrupted.. Returning\n",
      "2022-03-17 15:17:53,448 INFO mapred.LocalJobRunner: 1 / 1 copied.\n",
      "2022-03-17 15:17:53,448 INFO reduce.MergeManagerImpl: finalMerge called with 1 in-memory map-outputs and 0 on-disk map-outputs\n",
      "2022-03-17 15:17:53,453 INFO mapred.Merger: Merging 1 sorted segments\n",
      "2022-03-17 15:17:53,453 INFO mapred.Merger: Down to the last merge-pass, with 1 segments left of total size: 5152 bytes\n",
      "2022-03-17 15:17:53,456 INFO reduce.MergeManagerImpl: Merged 1 segments, 5157 bytes to disk to satisfy reduce memory limit\n",
      "2022-03-17 15:17:53,456 INFO reduce.MergeManagerImpl: Merging 1 files, 5161 bytes from disk\n",
      "2022-03-17 15:17:53,457 INFO reduce.MergeManagerImpl: Merging 0 segments, 0 bytes from memory into reduce\n",
      "2022-03-17 15:17:53,457 INFO mapred.Merger: Merging 1 sorted segments\n",
      "2022-03-17 15:17:53,458 INFO mapred.Merger: Down to the last merge-pass, with 1 segments left of total size: 5152 bytes\n",
      "2022-03-17 15:17:53,458 INFO mapred.LocalJobRunner: 1 / 1 copied.\n",
      "2022-03-17 15:17:53,460 INFO Configuration.deprecation: mapred.skip.on is deprecated. Instead, use mapreduce.job.skiprecords\n",
      "2022-03-17 15:17:53,472 INFO mapred.Task: Task:attempt_local1965851386_0001_r_000000_0 is done. And is in the process of committing\n",
      "2022-03-17 15:17:53,473 INFO mapred.LocalJobRunner: 1 / 1 copied.\n",
      "2022-03-17 15:17:53,473 INFO mapred.Task: Task attempt_local1965851386_0001_r_000000_0 is allowed to commit now\n",
      "2022-03-17 15:17:53,474 INFO output.FileOutputCommitter: Saved output of task 'attempt_local1965851386_0001_r_000000_0' to file:/home/ubuntu/sample-code-benchmark/sample-code/word-count/out\n",
      "2022-03-17 15:17:53,475 INFO mapred.LocalJobRunner: reduce > reduce\n",
      "2022-03-17 15:17:53,475 INFO mapred.Task: Task 'attempt_local1965851386_0001_r_000000_0' done.\n",
      "2022-03-17 15:17:53,475 INFO mapred.Task: Final Counters for attempt_local1965851386_0001_r_000000_0: Counters: 24\n",
      "\tFile System Counters\n",
      "\t\tFILE: Number of bytes read=18546\n",
      "\t\tFILE: Number of bytes written=648080\n",
      "\t\tFILE: Number of read operations=0\n",
      "\t\tFILE: Number of large read operations=0\n",
      "\t\tFILE: Number of write operations=0\n",
      "\tMap-Reduce Framework\n",
      "\t\tCombine input records=0\n",
      "\t\tCombine output records=0\n",
      "\t\tReduce input groups=381\n",
      "\t\tReduce shuffle bytes=5161\n",
      "\t\tReduce input records=381\n",
      "\t\tReduce output records=381\n",
      "\t\tSpilled Records=381\n",
      "\t\tShuffled Maps =1\n",
      "\t\tFailed Shuffles=0\n",
      "\t\tMerged Map outputs=1\n",
      "\t\tGC time elapsed (ms)=0\n",
      "\t\tTotal committed heap usage (bytes)=265814016\n",
      "\tShuffle Errors\n",
      "\t\tBAD_ID=0\n",
      "\t\tCONNECTION=0\n",
      "\t\tIO_ERROR=0\n",
      "\t\tWRONG_LENGTH=0\n",
      "\t\tWRONG_MAP=0\n",
      "\t\tWRONG_REDUCE=0\n",
      "\tFile Output Format Counters \n",
      "\t\tBytes Written=3683\n",
      "2022-03-17 15:17:53,475 INFO mapred.LocalJobRunner: Finishing task: attempt_local1965851386_0001_r_000000_0\n",
      "2022-03-17 15:17:53,476 INFO mapred.LocalJobRunner: reduce task executor complete.\n",
      "2022-03-17 15:17:54,164 INFO mapreduce.Job: Job job_local1965851386_0001 running in uber mode : false\n",
      "2022-03-17 15:17:54,164 INFO mapreduce.Job:  map 100% reduce 100%\n",
      "2022-03-17 15:17:54,165 INFO mapreduce.Job: Job job_local1965851386_0001 completed successfully\n",
      "2022-03-17 15:17:54,172 INFO mapreduce.Job: Counters: 30\n",
      "\tFile System Counters\n",
      "\t\tFILE: Number of bytes read=26738\n",
      "\t\tFILE: Number of bytes written=1287316\n",
      "\t\tFILE: Number of read operations=0\n",
      "\t\tFILE: Number of large read operations=0\n",
      "\t\tFILE: Number of write operations=0\n",
      "\tMap-Reduce Framework\n",
      "\t\tMap input records=44\n",
      "\t\tMap output records=810\n",
      "\t\tMap output bytes=8162\n",
      "\t\tMap output materialized bytes=5161\n",
      "\t\tInput split bytes=146\n",
      "\t\tCombine input records=810\n",
      "\t\tCombine output records=381\n",
      "\t\tReduce input groups=381\n",
      "\t\tReduce shuffle bytes=5161\n",
      "\t\tReduce input records=381\n",
      "\t\tReduce output records=381\n",
      "\t\tSpilled Records=762\n",
      "\t\tShuffled Maps =1\n",
      "\t\tFailed Shuffles=0\n",
      "\t\tMerged Map outputs=1\n",
      "\t\tGC time elapsed (ms)=0\n",
      "\t\tTotal committed heap usage (bytes)=531628032\n",
      "\tShuffle Errors\n",
      "\t\tBAD_ID=0\n",
      "\t\tCONNECTION=0\n",
      "\t\tIO_ERROR=0\n",
      "\t\tWRONG_LENGTH=0\n",
      "\t\tWRONG_MAP=0\n",
      "\t\tWRONG_REDUCE=0\n",
      "\tFile Input Format Counters \n",
      "\t\tBytes Read=4921\n",
      "\tFile Output Format Counters \n",
      "\t\tBytes Written=3683\n"
     ]
    }
   ],
   "source": [
    "!$HADOOP_HOME/bin/hadoop jar wc.jar WordCount ./data ./out | head"
   ]
  },
  {
   "cell_type": "code",
   "execution_count": 7,
   "id": "5cd38043-e235-43b5-b2b6-b8a56f10c36f",
   "metadata": {},
   "outputs": [
    {
     "name": "stdout",
     "output_type": "stream",
     "text": [
      "10\t1\n",
      "America\t1\n",
      "American\t1\n",
      "As\t2\n",
      "But\t2\n",
      "Classification\t1\n",
      "Contents\t1\n",
      "Details\t2\n",
      "Different\t1\n",
      "External\t1\n"
     ]
    }
   ],
   "source": [
    "# print wordcout output\n",
    "!$HADOOP_HOME/bin/hadoop fs -cat ./out/part-r-00000 | head"
   ]
  },
  {
   "cell_type": "code",
   "execution_count": null,
   "id": "ff15c584-40ea-40a6-bd45-2fe7c2af1f06",
   "metadata": {},
   "outputs": [],
   "source": []
  }
 ],
 "metadata": {
  "kernelspec": {
   "display_name": "Python 3 (ipykernel)",
   "language": "python",
   "name": "python3"
  },
  "language_info": {
   "codemirror_mode": {
    "name": "ipython",
    "version": 3
   },
   "file_extension": ".py",
   "mimetype": "text/x-python",
   "name": "python",
   "nbconvert_exporter": "python",
   "pygments_lexer": "ipython3",
   "version": "3.9.5"
  }
 },
 "nbformat": 4,
 "nbformat_minor": 5
}
