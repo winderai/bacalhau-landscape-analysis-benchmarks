{
 "cells": [
  {
   "cell_type": "markdown",
   "id": "51d0939b-5e2b-48d2-b4da-28675f406c0c",
   "metadata": {},
   "source": [
    "# Postgres Word Count"
   ]
  },
  {
   "cell_type": "markdown",
   "id": "997753ca-4d73-47c0-9b8b-2c7948eca9de",
   "metadata": {},
   "source": [
    "Make sure postgres is running"
   ]
  },
  {
   "cell_type": "code",
   "execution_count": 3,
   "id": "48e6ae45-d94b-49ff-b187-8a6c32981f87",
   "metadata": {},
   "outputs": [
    {
     "name": "stdout",
     "output_type": "stream",
     "text": [
      "                                                             version                                                              \n",
      "----------------------------------------------------------------------------------------------------------------------------------\n",
      " PostgreSQL 14.2 (Ubuntu 14.2-1.pgdg20.04+1) on x86_64-pc-linux-gnu, compiled by gcc (Ubuntu 9.3.0-17ubuntu1~20.04) 9.3.0, 64-bit\n",
      "(1 row)\n",
      "\n"
     ]
    }
   ],
   "source": [
    "%%bash\n",
    "sudo -n -u postgres psql -c \"SELECT version();\""
   ]
  },
  {
   "cell_type": "code",
   "execution_count": 4,
   "id": "8d1a7a21-a7cc-4b24-9df2-59369bf18e08",
   "metadata": {},
   "outputs": [],
   "source": [
    "%%bash\n",
    "sudo -n -u postgres createdb wordcountdb"
   ]
  },
  {
   "cell_type": "code",
   "execution_count": 5,
   "id": "3472ce59-6cbe-423a-882c-01c1fe20196b",
   "metadata": {},
   "outputs": [
    {
     "name": "stdout",
     "output_type": "stream",
     "text": [
      "CREATE TABLE\n"
     ]
    }
   ],
   "source": [
    "%%bash\n",
    "sudo -n -u postgres psql -d wordcountdb -c \"CREATE TABLE wordcount(word TEXT);\""
   ]
  },
  {
   "cell_type": "code",
   "execution_count": 6,
   "id": "dc963134-433c-4755-9428-888cb3a9cbce",
   "metadata": {},
   "outputs": [
    {
     "name": "stdout",
     "output_type": "stream",
     "text": [
      "COPY 809\n"
     ]
    }
   ],
   "source": [
    "%%bash\n",
    "tr \" \" \"\\n\" < ./data/wordcount.txt | sudo -n -u postgres psql -d wordcountdb -c \"COPY wordcount FROM stdin (delimiter ' ');\""
   ]
  },
  {
   "cell_type": "code",
   "execution_count": 7,
   "id": "7f7febe5-b41b-4ad5-97ed-00bbfb1023a0",
   "metadata": {},
   "outputs": [
    {
     "name": "stdout",
     "output_type": "stream",
     "text": [
      "     word     \n",
      "--------------\n",
      " word\n",
      " count\n",
      " from\n",
      " Wikipedia\n",
      " the\n",
      " free\n",
      " encyclopedia\n",
      " the\n",
      " word\n",
      " count\n",
      "(10 rows)\n",
      "\n"
     ]
    }
   ],
   "source": [
    "%%bash\n",
    "sudo -n -u postgres psql -d wordcountdb -c \"SELECT * FROM wordcount LIMIT 10;\""
   ]
  },
  {
   "cell_type": "code",
   "execution_count": 8,
   "id": "e860a09b-6241-4ad7-8973-5f7ece367279",
   "metadata": {},
   "outputs": [
    {
     "name": "stdout",
     "output_type": "stream",
     "text": [
      " word  | count \n",
      "-------+-------\n",
      " the   |    38\n",
      " a     |    28\n",
      " of    |    25\n",
      " word  |    24\n",
      " and   |    23\n",
      " words |    21\n",
      " is    |    19\n",
      " to    |    18\n",
      " in    |    11\n",
      " count |    11\n",
      "(10 rows)\n",
      "\n"
     ]
    }
   ],
   "source": [
    "%%bash\n",
    "sudo -n -u postgres psql -d wordcountdb -c \"SELECT word, COUNT(word) \\\n",
    "                                            FROM wordcount \\\n",
    "                                            GROUP BY word \\\n",
    "                                            ORDER BY count DESC \\\n",
    "                                            LIMIT 10;\""
   ]
  },
  {
   "cell_type": "code",
   "execution_count": null,
   "id": "570f8734-2221-4e12-99b1-41ea82cb11b0",
   "metadata": {},
   "outputs": [],
   "source": []
  },
  {
   "cell_type": "code",
   "execution_count": null,
   "id": "1fee89fc-ec44-4e55-a941-7f65752d3dec",
   "metadata": {},
   "outputs": [],
   "source": []
  }
 ],
 "metadata": {
  "kernelspec": {
   "display_name": "Python 3 (ipykernel)",
   "language": "python",
   "name": "python3"
  },
  "language_info": {
   "codemirror_mode": {
    "name": "ipython",
    "version": 3
   },
   "file_extension": ".py",
   "mimetype": "text/x-python",
   "name": "python",
   "nbconvert_exporter": "python",
   "pygments_lexer": "ipython3",
   "version": "3.9.5"
  }
 },
 "nbformat": 4,
 "nbformat_minor": 5
}
