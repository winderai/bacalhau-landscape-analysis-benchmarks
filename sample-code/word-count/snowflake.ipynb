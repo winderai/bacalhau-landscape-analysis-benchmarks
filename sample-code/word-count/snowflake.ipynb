{
 "cells": [
  {
   "cell_type": "markdown",
   "id": "9f4cdf71-02f7-4746-a26e-335d654cff16",
   "metadata": {},
   "source": [
    "# Snowflake Word Count"
   ]
  },
  {
   "cell_type": "markdown",
   "id": "412f9293-4826-4f90-a172-2ae5d016dbca",
   "metadata": {},
   "source": [
    "### Load wordcount.txt"
   ]
  },
  {
   "cell_type": "code",
   "execution_count": 7,
   "id": "d4330ae6-c1c6-4e9a-b79e-f5b686173df8",
   "metadata": {},
   "outputs": [
    {
     "name": "stdout",
     "output_type": "stream",
     "text": [
      "* SnowSQL * v1.2.21\n",
      "Type SQL statements or !help\n",
      "                                                                                +---------------+------------------+-------------+-------------+--------------------+--------------------+---------+---------+\n",
      "| \u001b[1msource       \u001b[0m | \u001b[1mtarget          \u001b[0m | \u001b[1msource_size\u001b[0m | \u001b[1mtarget_size\u001b[0m | \u001b[1msource_compression\u001b[0m | \u001b[1mtarget_compression\u001b[0m | \u001b[1mstatus \u001b[0m | \u001b[1mmessage\u001b[0m |\n",
      "|---------------+------------------+-------------+-------------+--------------------+--------------------+---------+---------|\n",
      "| wordcount.txt | wordcount.txt.gz |        4921 |           0 | NONE               | GZIP               | SKIPPED |         |\n",
      "+---------------+------------------+-------------+-------------+--------------------+--------------------+---------+---------+\u001b[0m\n",
      "1 Row(s) produced. Time Elapsed: 0.961s\u001b[0m\n",
      "                                                                                Goodbye!\n",
      "\u001b[0m\u001b[0m"
     ]
    }
   ],
   "source": [
    "!/home/ubuntu/bin/snowsql --query \"PUT file://./data/wordcount.txt '@mystage';\""
   ]
  },
  {
   "cell_type": "code",
   "execution_count": 8,
   "id": "159ebc1c-6bbd-4dd1-bc7b-ef4ca47d8058",
   "metadata": {},
   "outputs": [
    {
     "name": "stdout",
     "output_type": "stream",
     "text": [
      "* SnowSQL * v1.2.21\n",
      "Type SQL statements or !help\n",
      "                                                                                +---------------------------------------+\n",
      "| \u001b[1mstatus                               \u001b[0m |\n",
      "|---------------------------------------|\n",
      "| Copy executed with 0 files processed. |\n",
      "+---------------------------------------+\u001b[0m\n",
      "1 Row(s) produced. Time Elapsed: 1.076s\u001b[0m\n",
      "                                                                                Goodbye!\n",
      "\u001b[0m\u001b[0m"
     ]
    }
   ],
   "source": [
    "!/home/ubuntu/bin/snowsql --query \"COPY INTO WORDVALUE FROM '@mystage';\""
   ]
  },
  {
   "cell_type": "code",
   "execution_count": 10,
   "id": "69e4ee05-08a8-48bf-a7b4-9addcec1f560",
   "metadata": {},
   "outputs": [
    {
     "name": "stdout",
     "output_type": "stream",
     "text": [
      "* SnowSQL * v1.2.21\n",
      "Type SQL statements or !help\n",
      "                                                                                +-------+-------+\n",
      "| \u001b[1mWORD \u001b[0m | \u001b[1mCOUNT\u001b[0m |\n",
      "|-------+-------|\n",
      "| the   |    38 |\n",
      "| a     |    28 |\n",
      "| of    |    25 |\n",
      "| word  |    24 |\n",
      "| and   |    23 |\n",
      "| words |    21 |\n",
      "| is    |    19 |\n",
      "| to    |    18 |\n",
      "| or    |    11 |\n",
      "| in    |    11 |\n",
      "+-------+-------+\u001b[0m\n",
      "10 Row(s) produced. Time Elapsed: 0.396s\u001b[0m\n",
      "                                                                                Goodbye!\n",
      "\u001b[0m\u001b[0m"
     ]
    }
   ],
   "source": [
    "!/home/ubuntu/bin/snowsql --query \"SELECT word, COUNT(*) as count \\\n",
    "                                    from ( \\\n",
    "                                      select c.value::string as word \\\n",
    "                                      from \\\"WORDCOUNT2\\\".\\\"NEWSCHEMA\\\".\\\"WORDVALUE\\\", \\\n",
    "                                            lateral flatten(input=>split(C1, ' ')) c \\\n",
    "                                    ) \\\n",
    "                                    group by word \\\n",
    "                                    order by count desc \\\n",
    "                                    limit 10;\""
   ]
  },
  {
   "cell_type": "code",
   "execution_count": null,
   "id": "ac6cbd25-9532-400f-9c01-eb4618491f0f",
   "metadata": {},
   "outputs": [],
   "source": []
  }
 ],
 "metadata": {
  "kernelspec": {
   "display_name": "Python 3 (ipykernel)",
   "language": "python",
   "name": "python3"
  },
  "language_info": {
   "codemirror_mode": {
    "name": "ipython",
    "version": 3
   },
   "file_extension": ".py",
   "mimetype": "text/x-python",
   "name": "python",
   "nbconvert_exporter": "python",
   "pygments_lexer": "ipython3",
   "version": "3.9.5"
  }
 },
 "nbformat": 4,
 "nbformat_minor": 5
}
